{
  "cells": [
    {
      "cell_type": "markdown",
      "metadata": {
        "colab_type": "text",
        "id": "view-in-github"
      },
      "source": [
        "<a href=\"https://colab.research.google.com/github/pulipulichen/colab-File-Browser/blob/main/colab/colab-File-Browser.ipynb\" target=\"_parent\"><img src=\"https://colab.research.google.com/assets/colab-badge.svg\" alt=\"Open In Colab\"/></a>"
      ]
    },
    {
      "cell_type": "markdown",
      "metadata": {
        "id": "wW4llNGArA4j"
      },
      "source": [
        "# **colab-File-Browser**\n",
        "\n",
        "操作說明請看：https://sites.google.com/view/\n",
        "howtousecolab-colab-20250202-2"
      ]
    },
    {
      "cell_type": "markdown",
      "metadata": {
        "id": "ggtazX04AG9o"
      },
      "source": [
        "# Script"
      ]
    },
    {
      "cell_type": "markdown",
      "metadata": {
        "id": "C_XdvVwo_BxU"
      },
      "source": [
        "## Configurations for script"
      ]
    },
    {
      "cell_type": "code",
      "execution_count": 18,
      "metadata": {
        "id": "QEuow7m5Ai6B"
      },
      "outputs": [],
      "source": [
        "PROJECT_OWNER=\"pulipulichen\"\n",
        "PROJECT_NAME=\"colab-File-Browser\"\n"
      ]
    },
    {
      "cell_type": "markdown",
      "metadata": {
        "id": "wNN0_GacPccb"
      },
      "source": [
        "測試的方式\n",
        "\n",
        "1. `Runtime` > `Run all` (Ctrl + F9)\n",
        "2. 等待Cloudflare網址可連"
      ]
    },
    {
      "cell_type": "markdown",
      "metadata": {
        "id": "6G5pgmiP_BxW"
      },
      "source": [
        "## Core Tools"
      ]
    },
    {
      "cell_type": "markdown",
      "metadata": {
        "id": "SABNExpd_BxW"
      },
      "source": [
        "### curl_local_url()"
      ]
    },
    {
      "cell_type": "code",
      "execution_count": 19,
      "metadata": {
        "id": "gsxo5ACv_BxX"
      },
      "outputs": [],
      "source": [
        "import os\n",
        "import time\n",
        "import subprocess\n",
        "\n",
        "inited = True\n",
        "if os.path.isfile('.inited') is False:\n",
        "  inited = False\n",
        "\n",
        "def curl_local_url(port):\n",
        "  while True:\n",
        "    try:\n",
        "      output = subprocess.check_output(['curl', '-s', 'http://127.0.0.1:' + str(port) + '/']).decode('utf-8')\n",
        "      print(\"Success to connect http://127.0.0.1:\" + str(port))\n",
        "      break  # Break out of the loop if successful\n",
        "    except subprocess.CalledProcessError:\n",
        "      # print(\"Check http://127.0.0.1:\" + str(port) + \"/ failed. Retrying in 5 seconds...\")\n",
        "      time.sleep(5)\n",
        "      continue  # Retry in case of failure"
      ]
    },
    {
      "cell_type": "markdown",
      "metadata": {
        "id": "Ogys5x-Q_BxX"
      },
      "source": [
        "### wait_for_cloudflare()"
      ]
    },
    {
      "cell_type": "code",
      "execution_count": 20,
      "metadata": {
        "id": "Hfr0RQGR_BxX"
      },
      "outputs": [],
      "source": [
        "import os\n",
        "import time\n",
        "\n",
        "def wait_for_cloudflare():\n",
        "  file_path = f'/content/docker-app/{PROJECT_NAME}/.cloudflare.url'\n",
        "\n",
        "  while not os.path.exists(file_path):\n",
        "    time.sleep(3)  # Check every 1 second\n",
        "\n",
        "  # File found, read and print its contents\n",
        "  # with open(file_path, 'r') as file:\n",
        "  #   content = file.read()\n",
        "  #   print(f\"Public URL: {content}\")\n"
      ]
    },
    {
      "cell_type": "markdown",
      "metadata": {
        "id": "xhK9dqVo_BxX"
      },
      "source": [
        "### wait_for_docker_web_ready()"
      ]
    },
    {
      "cell_type": "code",
      "execution_count": 21,
      "metadata": {
        "id": "vzz8GP5l_BxY"
      },
      "outputs": [],
      "source": [
        "import os\n",
        "import time\n",
        "\n",
        "def wait_for_docker_web_ready():\n",
        "  print('Waiting for docker web ready...')\n",
        "  file_path = f'/content/docker-app/{PROJECT_NAME}/.docker-web.ready'\n",
        "\n",
        "  while not os.path.exists(file_path):\n",
        "    time.sleep(3)  # Check every 1 second\n",
        "\n",
        "  # File found, read and print its contents\n",
        "  # with open(file_path, 'r') as file:\n",
        "  #   content = file.read()\n",
        "  #   print(f\"Public URL: {content}\")\n",
        "\n",
        "  time.sleep(10)"
      ]
    },
    {
      "cell_type": "markdown",
      "metadata": {
        "id": "Y0AcHYYG_BxY"
      },
      "source": [
        "### keep_waiting()"
      ]
    },
    {
      "cell_type": "code",
      "execution_count": 22,
      "metadata": {
        "id": "WSkoESWO_BxZ"
      },
      "outputs": [],
      "source": [
        "import time\n",
        "\n",
        "def keep_waiting():\n",
        "  while True:\n",
        "    time.sleep(1)  # Check every 1 second\n"
      ]
    },
    {
      "cell_type": "markdown",
      "metadata": {
        "id": "cbNWFurF_BxZ"
      },
      "source": [
        "### mountGDrive()"
      ]
    },
    {
      "cell_type": "code",
      "execution_count": 23,
      "metadata": {
        "id": "7EXttOWB_BxZ"
      },
      "outputs": [],
      "source": [
        "import os\n",
        "from subprocess import getoutput\n",
        "from google.colab import drive\n",
        "import subprocess\n",
        "\n",
        "GDRIVE_PATH = \"/colab/\" + PROJECT_NAME\n",
        "\n",
        "def mountGDrive():\n",
        "  if not os.path.exists(\"/google-drive/MyDrive\"):\n",
        "    return True\n",
        "\n",
        "  if not os.path.exists(\"/google-drive\"):\n",
        "    drive.mount('/google-drive')  # access drive\n",
        "\n",
        "  TEMP_GDRIVE_PATH = GDRIVE_PATH\n",
        "\n",
        "  if not TEMP_GDRIVE_PATH.startswith(\"/\"):\n",
        "    TEMP_GDRIVE_PATH = \"/\" + TEMP_GDRIVE_PATH\n",
        "  if not TEMP_GDRIVE_PATH.endswith(\"/\"):\n",
        "    TEMP_GDRIVE_PATH = TEMP_GDRIVE_PATH + \"/\"\n",
        "\n",
        "  folder_path = \"/google-drive/MyDrive/docker-app\" + TEMP_GDRIVE_PATH\n",
        "  if not os.path.exists(folder_path):\n",
        "    os.makedirs(folder_path)\n",
        "\n",
        "  target_folder_path = \"/content/docker-app/\"\n",
        "  if not os.path.exists(target_folder_path):\n",
        "    os.makedirs(target_folder_path)\n",
        "\n",
        "  command = [\"ln\", \"-s\", folder_path, target_folder_path]\n",
        "  subprocess.run(command, check=True)"
      ]
    },
    {
      "cell_type": "markdown",
      "metadata": {
        "id": "ywNtiXDg_BxZ"
      },
      "source": [
        "### clearDockerData()"
      ]
    },
    {
      "cell_type": "code",
      "execution_count": 24,
      "metadata": {
        "id": "WPI0mSAU_Bxa"
      },
      "outputs": [],
      "source": [
        "import os\n",
        "from subprocess import getoutput\n",
        "import subprocess\n",
        "\n",
        "def clearDockerData():\n",
        "  stop_udocker()\n",
        "  command = [\"rm\", \"-rf\", \"/content/docker-app/\" + PROJECT_NAME]\n",
        "  subprocess.run(command, check=True)\n"
      ]
    },
    {
      "cell_type": "markdown",
      "metadata": {
        "id": "qsRWjdgk_Bxa"
      },
      "source": [
        "### get_config_from_yaml()"
      ]
    },
    {
      "cell_type": "code",
      "execution_count": 25,
      "metadata": {
        "id": "UdN1QGUo_Bxa"
      },
      "outputs": [],
      "source": [
        "import yaml\n",
        "import subprocess\n",
        "import cherrypy\n",
        "import time\n",
        "\n",
        "if inited is False:\n",
        "  !pip install CherryPy==18.8.0\n",
        "  !pip install udocker==1.3.10\n",
        "  !udocker --allow-root install\n",
        "\n",
        "  from google.colab.output import eval_js\n",
        "  !rm -rf ./sample_data*\n",
        "\n",
        "  !pip install pyyaml==6.0.1\n",
        "\n",
        "def get_config_from_yaml():\n",
        "  yaml_file_path = f\"./.docker-app/{PROJECT_NAME}/app-build/docker-compose-template.yml\"\n",
        "\n",
        "  with open(yaml_file_path, \"r\") as file:\n",
        "    yaml_data = yaml.safe_load(file)\n",
        "  # print(yaml_data)\n",
        "\n",
        "  # Assuming there is only one service named \"app\" in your YAML\n",
        "  webapp_ports = yaml_data.get(\"services\", {}).get(\"app\", {}).get(\"ports\", [])\n",
        "  WEBAPP_PORT = None\n",
        "\n",
        "  for port_mapping in webapp_ports:\n",
        "      # Check if the mapping is in the format \"HOST_PORT:CONTAINER_PORT\"\n",
        "      if isinstance(port_mapping, str) and \":\" in port_mapping:\n",
        "        # print(port_mapping)\n",
        "        host_port, container_port = port_mapping.split(\":\")\n",
        "        WEBAPP_PORT = host_port\n",
        "        break\n",
        "\n",
        "  # ============\n",
        "  environments = yaml_data.get(\"services\", {}).get(\"app\", {}).get(\"environment\", [])\n",
        "  LOCAL_VOLUMN_PATH = get_environments_from_yaml(environments, 'LOCAL_VOLUMN_PATH')\n",
        "  RUN_COMMAND = get_environments_from_yaml(environments, 'RUN_COMMAND')\n",
        "\n",
        "  # ============\n",
        "  deploy = yaml_data.get(\"services\", {}).get(\"app\", {}).get(\"deploy\", [])\n",
        "  GPU_ENABLE = False\n",
        "  if 'resources' in deploy:\n",
        "    GPU_ENABLE = True\n",
        "\n",
        "  # ============\n",
        "  app = yaml_data.get(\"services\", {}).get(\"app\", {})\n",
        "  # print(app)\n",
        "  IMAGE_NAME = app['image']\n",
        "\n",
        "  return {\n",
        "    \"WEBAPP_PORT\": WEBAPP_PORT,\n",
        "    \"LOCAL_VOLUMN_PATH\": LOCAL_VOLUMN_PATH,\n",
        "    \"IMAGE_NAME\": IMAGE_NAME,\n",
        "    \"RUN_COMMAND\": RUN_COMMAND,\n",
        "    \"GPU_ENABLE\": GPU_ENABLE\n",
        "  }\n"
      ]
    },
    {
      "cell_type": "markdown",
      "metadata": {
        "id": "OxJ2vaYn_Bxa"
      },
      "source": [
        "#### get_environments_from_yaml()"
      ]
    },
    {
      "cell_type": "code",
      "execution_count": 26,
      "metadata": {
        "id": "ZyejNKFN_Bxa"
      },
      "outputs": [],
      "source": [
        "def get_environments_from_yaml(environments, key, default_value = None):\n",
        "\n",
        "  for env_mapping in environments:\n",
        "      # Check if the mapping is in the format \"HOST_PORT:CONTAINER_PORT\"\n",
        "      if isinstance(env_mapping, str) and key + \"=\" in env_mapping:\n",
        "        # print(port_mapping)\n",
        "        key, value = env_mapping.split(\"=\")\n",
        "        default_value = value\n",
        "        break\n",
        "\n",
        "  return default_value"
      ]
    },
    {
      "cell_type": "markdown",
      "metadata": {},
      "source": [
        "### get_current_datestring()"
      ]
    },
    {
      "cell_type": "code",
      "execution_count": null,
      "metadata": {},
      "outputs": [],
      "source": [
        "from datetime import datetime\n",
        "def get_current_datestring():\n",
        "  return datetime.now().strftime(\"%Y-%m-%d %H:%M:%S\")"
      ]
    },
    {
      "cell_type": "markdown",
      "metadata": {
        "id": "efPWZqla_Bxb"
      },
      "source": [
        "## udocker"
      ]
    },
    {
      "cell_type": "markdown",
      "metadata": {
        "id": "46yFCTEw_Bxb"
      },
      "source": [
        "### stop_udocker()"
      ]
    },
    {
      "cell_type": "code",
      "execution_count": 27,
      "metadata": {
        "id": "W4lELdzk_Bxb"
      },
      "outputs": [],
      "source": [
        "def stop_udocker():\n",
        "  #!udocker --allow-root ps\n",
        "  !udocker --allow-root ps | awk 'NR > 1 {print $1}' | xargs -I {} udocker --allow-root rm {}\n",
        "  !pgrep java && pkill java && sleep 5\n"
      ]
    },
    {
      "cell_type": "markdown",
      "metadata": {
        "id": "yl38QOoy_Bxb"
      },
      "source": [
        "### run_udocker()"
      ]
    },
    {
      "cell_type": "code",
      "execution_count": 28,
      "metadata": {
        "id": "Q5S1Zi5t_Bxb"
      },
      "outputs": [],
      "source": [
        "def run_udocker():\n",
        "  # WEBAPP_PORT, LOCAL_VOLUMN_PATH, IMAGE_NAME, RUN_COMMAND = get_config_from_yaml()\n",
        "  YAML_CONFIG = get_config_from_yaml()\n",
        "\n",
        "  # !rm -f /content/docker-app/$PROJECT_NAME/.docker-web.ready || true\n",
        "  # !rm -f /content/docker-app/$PROJECT_NAME/.cloudflare.url || true\n",
        "  ![ -e /content/docker-app/$PROJECT_NAME/.cloudflare.url ] && rm /content/docker-app/$PROJECT_NAME/.cloudflare.url\n",
        "  ![ -e /content/docker-app/$PROJECT_NAME/.docker-web.ready ] && rm /content/docker-app/$PROJECT_NAME/.docker-web.ready\n",
        "\n",
        "  RUN_IN_BACKGROUND = True\n",
        "  if YAML_CONFIG[\"WEBAPP_PORT\"] is None:\n",
        "    RUN_IN_BACKGROUND = False\n",
        "\n",
        "  # For testing purposes\n",
        "  # RUN_IN_BACKGROUND = False\n",
        "\n",
        "  if RUN_IN_BACKGROUND is False:\n",
        "    run_udocker_in_foreground()\n",
        "  else:\n",
        "    run_udocker_in_background()\n"
      ]
    },
    {
      "cell_type": "markdown",
      "metadata": {
        "id": "DVnhKcvX_Bxb"
      },
      "source": [
        "### run_udocker_in_foreground()"
      ]
    },
    {
      "cell_type": "code",
      "execution_count": 29,
      "metadata": {
        "id": "XnuTukZh_Bxb"
      },
      "outputs": [],
      "source": [
        "def run_udocker_in_foreground():\n",
        "\n",
        "  # WEBAPP_PORT, LOCAL_VOLUMN_PATH, IMAGE_NAME, RUN_COMMAND = get_config_from_yaml()\n",
        "  YAML_CONFIG = get_config_from_yaml()\n",
        "\n",
        "  # print('Run container in foreground..')\n",
        "\n",
        "  # print(LOCAL_VOLUMN_PATH)\n",
        "  # print(RUN_COMMAND)\n",
        "\n",
        "  !rm -rf /content/docker-app/$PROJECT_NAME\n",
        "  !mkdir -p /content/docker-app/$PROJECT_NAME\n",
        "\n",
        "  udocker_command = get_udocker_run_command()\n",
        "  !$udocker_command\n",
        "\n",
        "  print(\"Finish\")"
      ]
    },
    {
      "cell_type": "markdown",
      "metadata": {
        "id": "Kh7Za7sN_Bxc"
      },
      "source": [
        "### run_udocker_in_background()"
      ]
    },
    {
      "cell_type": "code",
      "execution_count": 30,
      "metadata": {
        "id": "sEwa-K2I_Bxc"
      },
      "outputs": [],
      "source": [
        "from datetime import datetime\n",
        "\n",
        "def run_udocker_in_background():\n",
        "\n",
        "  if os.path.isfile('.cloudflared') is False:\n",
        "    !wget https://github.com/cloudflare/cloudflared/releases/latest/download/cloudflared-linux-amd64 -O .cloudflared\n",
        "    !chmod a+x .cloudflared\n",
        "\n",
        "  stop_udocker()\n",
        "\n",
        "  !mkdir -p /content/docker-app/$PROJECT_NAME\n",
        "\n",
        "  # WEBAPP_PORT, LOCAL_VOLUMN_PATH, IMAGE_NAME, RUN_COMMAND = get_config_from_yaml()\n",
        "  YAML_CONFIG = get_config_from_yaml()\n",
        "\n",
        "  !rm -rf ./*nohup.out\n",
        "  !rm -rf ./docker-app/$PROJECT_NAME/.cloudflare.url\n",
        "\n",
        "  print('Run container in background..')\n",
        "  ![ -e /content/.docker-app/udocker.sh ] && rm /content/.docker-app/udocker.sh\n",
        "  udocker_command = get_udocker_run_command()\n",
        "  !echo \"nohup $udocker_command > .nohup.out 2>&1 &\" >> /content/.docker-app/udocker.sh\n",
        "  !chmod +x /content/.docker-app/udocker.sh\n",
        "  !bash /content/.docker-app/udocker.sh\n",
        "\n",
        "  cherrypy.config.update({'server.socket_host': '0.0.0.0','server.socket_port' : int(YAML_CONFIG[\"WEBAPP_PORT\"])})\n",
        "  # wait_for_cloudflare()\n",
        "  curl_local_url(YAML_CONFIG[\"WEBAPP_PORT\"])\n",
        "  wait_for_docker_web_ready()\n",
        "\n",
        "  # =======\n",
        "\n",
        "  ready_time = datetime.now()\n",
        "  print('Preparing link... ' + ready_time.strftime(\"%Y-%m-%d %H:%M:%S\"))\n",
        "\n",
        "  # Calculate the difference in minutes\n",
        "  interval_minutes = (ready_time - START_TIME).total_seconds() / 60\n",
        "  print(f\"Interval in minutes: {interval_minutes}\")\n",
        "\n",
        "  # =======\n",
        "\n",
        "  print('============================================================================')\n",
        "  print('請找到下面訊息的網址。網址的結尾必須為「.trycloudflare.com 」。')\n",
        "  print('例如：https://organised-norton-talks-autos.trycloudflare.com')\n",
        "  print('')\n",
        "  print('如果超過5分鐘仍然沒有顯示資訊，請中斷執行後，重新執行這個cell。')\n",
        "  print('============================================================================')\n",
        "  #!cat /content/docker-app/docker-web-Apache-Solr/solrconfig.xml | grep dc.publisher\n",
        "  cloudflared_command = './.cloudflared --url \"http://127.0.0.1:' + YAML_CONFIG[\"WEBAPP_PORT\"] + '\"'\n",
        "  !$cloudflared_command\n"
      ]
    },
    {
      "cell_type": "markdown",
      "metadata": {
        "id": "0_HLIbPg_Bxc"
      },
      "source": [
        "### get_udocker_run_command()"
      ]
    },
    {
      "cell_type": "code",
      "execution_count": 31,
      "metadata": {
        "id": "_cijSo1V_Bxc"
      },
      "outputs": [],
      "source": [
        "from datetime import datetime\n",
        "\n",
        "def get_udocker_run_command():\n",
        "  YAML_CONFIG = get_config_from_yaml()\n",
        "\n",
        "  command = ''\n",
        "\n",
        "  IMAGE_NAME = YAML_CONFIG[\"IMAGE_NAME\"]\n",
        "\n",
        "  print('Pulling the image ' + IMAGE_NAME + '...' + get_current_datestring())\n",
        "  !udocker --allow-root pull $IMAGE_NAME\n",
        "\n",
        "  print('Create the name space for ' + IMAGE_NAME + ' ...' + get_current_datestring())\n",
        "  !udocker --allow-root create --name=sdw $image\n",
        "\n",
        "  if YAML_CONFIG[\"GPU_ENABLE\"] == True:\n",
        "    \n",
        "    print('Setup nvidia for the name space sdw...' + get_current_datestring())\n",
        "    !udocker --allow-root setup --nvidia sdw\n",
        "\n",
        "  command = \"udocker --allow-root run \" + \\\n",
        "    \"-p \" + YAML_CONFIG[\"WEBAPP_PORT\"] + \":\" + YAML_CONFIG[\"WEBAPP_PORT\"] + \\\n",
        "    \" \" + \\\n",
        "    \"--volume=/content/docker-app/\" + PROJECT_NAME + \":\" + YAML_CONFIG[\"LOCAL_VOLUMN_PATH\"] + \\\n",
        "    \" \" + \\\n",
        "    \"sdw\"\n",
        "\n",
        "  print(command)\n",
        "\n",
        "  return command"
      ]
    },
    {
      "cell_type": "markdown",
      "metadata": {
        "id": "99JDttT3_Bxc"
      },
      "source": [
        "## main() (must be the last)"
      ]
    },
    {
      "cell_type": "code",
      "execution_count": 32,
      "metadata": {
        "colab": {
          "base_uri": "https://localhost:8080/"
        },
        "id": "WgfrM-0nAIR9",
        "outputId": "5e4b8537-84f4-431c-80df-c896d0f435a8"
      },
      "outputs": [
        {
          "name": "stdout",
          "output_type": "stream",
          "text": [
            "/content/.docker-app/colab-File-Browser\n",
            "HEAD is now at 3399c7a Merge branch 'main' of https://github.com/pulipulichen/colab-File-Browser\n",
            "Already up to date.\n",
            "/content\n"
          ]
        }
      ],
      "source": [
        "\n",
        "if inited is False:\n",
        "  %cd /content\n",
        "  !touch .inited\n",
        "  inited = True\n",
        "\n",
        "# ==================\n",
        "\n",
        "!mkdir -p ./.docker-app\n",
        "\n",
        "if os.path.isdir('/content/.docker-app/' + PROJECT_NAME) is False:\n",
        "  %cd /content/.docker-app\n",
        "  !git clone \"https://github.com/{PROJECT_OWNER}/{PROJECT_NAME}.git\"\n",
        "  !git config pull.rebase true\n",
        "else:\n",
        "  %cd /content/.docker-app/$PROJECT_NAME\n",
        "  !git reset --hard\n",
        "  !git pull --force\n",
        "%cd /content/\n",
        "\n",
        "# ==================\n",
        "\n",
        "from datetime import datetime\n",
        "START_TIME = datetime.now()\n",
        "\n",
        "def main():\n",
        "  START_TIME = datetime.now()\n",
        "  print('Preparing environment... ' + START_TIME.strftime(\"%Y-%m-%d %H:%M:%S\"))\n",
        "\n",
        "  # mountGDrive() # 開啟Google Drive掛載功能\n",
        "  run_udocker()"
      ]
    },
    {
      "cell_type": "code",
      "execution_count": 33,
      "metadata": {
        "id": "kz52yq8PJlfJ"
      },
      "outputs": [],
      "source": [
        "# For Testing purposes\n",
        "\n",
        "#clearDockerData()"
      ]
    },
    {
      "cell_type": "markdown",
      "metadata": {
        "id": "YvCrB6m3rr8E"
      },
      "source": [
        "# **Runtime**"
      ]
    },
    {
      "cell_type": "code",
      "execution_count": null,
      "metadata": {
        "colab": {
          "base_uri": "https://localhost:8080/"
        },
        "id": "QoDmlNHCsSLP",
        "outputId": "5ae525ac-099a-4e13-9c8f-57b34bb46376"
      },
      "outputs": [
        {
          "name": "stdout",
          "output_type": "stream",
          "text": [
            "Info: deleting container: 2481f7f7-262a-31a6-b98b-740b8dd3043a\n",
            "Run container in background..\n",
            "udocker --allow-root run -p 8081:8081 --volume=/content/docker-app/colab-File-Browser:/data pudding/docker-web:colab-file-browser-20250202.220343\n",
            "Success to connect http://127.0.0.1:8081\n",
            "Waiting for docker web ready...\n",
            "============================================================================\n",
            "請找到下面訊息的網址。網址的結尾必須為「.trycloudflare.com 」。\n",
            "例如：https://organised-norton-talks-autos.trycloudflare.com\n",
            "\n",
            "如果超過5分鐘仍然沒有顯示資訊，請中斷執行後，重新執行這個cell。\n",
            "============================================================================\n",
            "\u001b[90m2025-02-02T14:31:48Z\u001b[0m \u001b[32mINF\u001b[0m Thank you for trying Cloudflare Tunnel. Doing so, without a Cloudflare account, is a quick way to experiment and try it out. However, be aware that these account-less Tunnels have no uptime guarantee, are subject to the Cloudflare Online Services Terms of Use (https://www.cloudflare.com/website-terms/), and Cloudflare reserves the right to investigate your use of Tunnels for violations of such terms. If you intend to use Tunnels in production you should use a pre-created named tunnel by following: https://developers.cloudflare.com/cloudflare-one/connections/connect-apps\n",
            "\u001b[90m2025-02-02T14:31:48Z\u001b[0m \u001b[32mINF\u001b[0m Requesting new quick Tunnel on trycloudflare.com...\n",
            "\u001b[90m2025-02-02T14:31:51Z\u001b[0m \u001b[32mINF\u001b[0m +--------------------------------------------------------------------------------------------+\n",
            "\u001b[90m2025-02-02T14:31:51Z\u001b[0m \u001b[32mINF\u001b[0m |  Your quick Tunnel has been created! Visit it at (it may take some time to be reachable):  |\n",
            "\u001b[90m2025-02-02T14:31:51Z\u001b[0m \u001b[32mINF\u001b[0m |  https://tubes-amino-bedrooms-enemies.trycloudflare.com                                    |\n",
            "\u001b[90m2025-02-02T14:31:51Z\u001b[0m \u001b[32mINF\u001b[0m +--------------------------------------------------------------------------------------------+\n",
            "\u001b[90m2025-02-02T14:31:51Z\u001b[0m \u001b[32mINF\u001b[0m Cannot determine default configuration path. No file [config.yml config.yaml] in [~/.cloudflared ~/.cloudflare-warp ~/cloudflare-warp /etc/cloudflared /usr/local/etc/cloudflared]\n",
            "\u001b[90m2025-02-02T14:31:51Z\u001b[0m \u001b[32mINF\u001b[0m Version 2025.1.1 (Checksum e06b681e84c96387107cd9c43baddcee4daf3e917f0305c3d852bf0b88044ea6)\n",
            "\u001b[90m2025-02-02T14:31:51Z\u001b[0m \u001b[32mINF\u001b[0m GOOS: linux, GOVersion: go1.22.10, GoArch: amd64\n",
            "\u001b[90m2025-02-02T14:31:51Z\u001b[0m \u001b[32mINF\u001b[0m Settings: map[ha-connections:1 protocol:quic url:http://127.0.0.1:8081]\n",
            "\u001b[90m2025-02-02T14:31:51Z\u001b[0m \u001b[32mINF\u001b[0m Generated Connector ID: c45f40fb-4ab1-4a45-8063-efd38be46e80\n",
            "\u001b[90m2025-02-02T14:31:51Z\u001b[0m \u001b[32mINF\u001b[0m cloudflared will not automatically update when run from the shell. To enable auto-updates, run cloudflared as a service: https://developers.cloudflare.com/cloudflare-one/connections/connect-apps/run-tunnel/as-a-service/\n",
            "\u001b[90m2025-02-02T14:31:51Z\u001b[0m \u001b[32mINF\u001b[0m Initial protocol quic\n",
            "\u001b[90m2025-02-02T14:31:51Z\u001b[0m \u001b[32mINF\u001b[0m ICMP proxy will use 172.28.0.12 as source for IPv4\n",
            "\u001b[90m2025-02-02T14:31:51Z\u001b[0m \u001b[32mINF\u001b[0m ICMP proxy will use :: as source for IPv6\n",
            "\u001b[90m2025-02-02T14:31:51Z\u001b[0m \u001b[32mINF\u001b[0m ICMP proxy will use 172.28.0.12 as source for IPv4\n",
            "\u001b[90m2025-02-02T14:31:51Z\u001b[0m \u001b[32mINF\u001b[0m ICMP proxy will use :: as source for IPv6\n",
            "\u001b[90m2025-02-02T14:31:51Z\u001b[0m \u001b[32mINF\u001b[0m Starting metrics server on 127.0.0.1:20241/metrics\n",
            "\u001b[90m2025-02-02T14:31:51Z\u001b[0m \u001b[32mINF\u001b[0m Using [CurveID(4588) CurveID(25497) CurveP256] as curve preferences \u001b[36mconnIndex=\u001b[0m0 \u001b[36mevent=\u001b[0m0 \u001b[36mip=\u001b[0m198.41.200.193\n",
            "2025/02/02 14:31:51 failed to sufficiently increase receive buffer size (was: 208 kiB, wanted: 7168 kiB, got: 416 kiB). See https://github.com/quic-go/quic-go/wiki/UDP-Buffer-Sizes for details.\n",
            "\u001b[90m2025-02-02T14:31:52Z\u001b[0m \u001b[32mINF\u001b[0m Registered tunnel connection \u001b[36mconnIndex=\u001b[0m0 \u001b[36mconnection=\u001b[0m2555e525-2a76-4170-8b67-6d758579f51e \u001b[36mevent=\u001b[0m0 \u001b[36mip=\u001b[0m198.41.200.193 \u001b[36mlocation=\u001b[0miad12 \u001b[36mprotocol=\u001b[0mquic\n"
          ]
        }
      ],
      "source": [
        "# mountGDrive() # 開啟Google Drive掛載功能\n",
        "main()"
      ]
    }
  ],
  "metadata": {
    "colab": {
      "include_colab_link": true,
      "provenance": []
    },
    "kernelspec": {
      "display_name": "Python 3",
      "name": "python3"
    },
    "language_info": {
      "name": "python"
    }
  },
  "nbformat": 4,
  "nbformat_minor": 0
}
