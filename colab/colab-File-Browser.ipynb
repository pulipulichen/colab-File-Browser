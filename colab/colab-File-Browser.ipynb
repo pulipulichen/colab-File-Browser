{
  "cells": [
    {
      "cell_type": "markdown",
      "metadata": {
        "id": "view-in-github",
        "colab_type": "text"
      },
      "source": [
        "<a href=\"https://colab.research.google.com/github/pulipulichen/colab-File-Browser/blob/main/colab/colab-File-Browser.ipynb\" target=\"_parent\"><img src=\"https://colab.research.google.com/assets/colab-badge.svg\" alt=\"Open In Colab\"/></a>"
      ]
    },
    {
      "cell_type": "markdown",
      "metadata": {
        "id": "wW4llNGArA4j"
      },
      "source": [
        "# **colab-File-Browser**\n",
        "\n",
        "Instruction: https://sites.google.com/view/howtousecolab-colab-20250202-2\n"
      ]
    },
    {
      "cell_type": "markdown",
      "metadata": {
        "id": "ggtazX04AG9o"
      },
      "source": [
        "# Script"
      ]
    },
    {
      "cell_type": "markdown",
      "metadata": {
        "id": "C_XdvVwo_BxU"
      },
      "source": [
        "## Configurations for script"
      ]
    },
    {
      "cell_type": "code",
      "execution_count": 185,
      "metadata": {
        "id": "QEuow7m5Ai6B"
      },
      "outputs": [],
      "source": [
        "PROJECT_OWNER=\"pulipulichen\"\n",
        "PROJECT_NAME=\"colab-File-Browser\"\n",
        "\n",
        "FORCE_RUN_IN_FOREGROUND=True"
      ]
    },
    {
      "cell_type": "markdown",
      "metadata": {
        "id": "wNN0_GacPccb"
      },
      "source": [
        "### Testing Instruction\n",
        "\n",
        "1. `Runtime` > `Run all` (Ctrl + F9)\n",
        "2. Wait for the Cloudflare URL to be accessible."
      ]
    },
    {
      "cell_type": "markdown",
      "metadata": {
        "id": "6G5pgmiP_BxW"
      },
      "source": [
        "## Core Tools"
      ]
    },
    {
      "cell_type": "markdown",
      "source": [
        "### Install Packages that need restart the session."
      ],
      "metadata": {
        "id": "-oOFU297TWqU"
      }
    },
    {
      "cell_type": "code",
      "source": [
        "# Install packages that will trigger a session restart first.\n",
        "!pip install CherryPy==18.8.0"
      ],
      "metadata": {
        "colab": {
          "base_uri": "https://localhost:8080/"
        },
        "id": "4OCKf-hDTWB8",
        "outputId": "becfad07-386b-4601-b5c0-2bd0f4616cad"
      },
      "execution_count": 186,
      "outputs": [
        {
          "output_type": "stream",
          "name": "stdout",
          "text": [
            "Requirement already satisfied: CherryPy==18.8.0 in /usr/local/lib/python3.11/dist-packages (18.8.0)\n",
            "Requirement already satisfied: cheroot>=8.2.1 in /usr/local/lib/python3.11/dist-packages (from CherryPy==18.8.0) (10.0.1)\n",
            "Requirement already satisfied: portend>=2.1.1 in /usr/local/lib/python3.11/dist-packages (from CherryPy==18.8.0) (3.2.0)\n",
            "Requirement already satisfied: more-itertools in /usr/local/lib/python3.11/dist-packages (from CherryPy==18.8.0) (10.5.0)\n",
            "Requirement already satisfied: zc.lockfile in /usr/local/lib/python3.11/dist-packages (from CherryPy==18.8.0) (3.0.post1)\n",
            "Requirement already satisfied: jaraco.collections in /usr/local/lib/python3.11/dist-packages (from CherryPy==18.8.0) (5.1.0)\n",
            "Requirement already satisfied: jaraco.functools in /usr/local/lib/python3.11/dist-packages (from cheroot>=8.2.1->CherryPy==18.8.0) (4.1.0)\n",
            "Requirement already satisfied: tempora>=1.8 in /usr/local/lib/python3.11/dist-packages (from portend>=2.1.1->CherryPy==18.8.0) (5.8.0)\n",
            "Requirement already satisfied: jaraco.text in /usr/local/lib/python3.11/dist-packages (from jaraco.collections->CherryPy==18.8.0) (4.0.0)\n",
            "Requirement already satisfied: setuptools in /usr/local/lib/python3.11/dist-packages (from zc.lockfile->CherryPy==18.8.0) (75.1.0)\n",
            "Requirement already satisfied: python-dateutil in /usr/local/lib/python3.11/dist-packages (from tempora>=1.8->portend>=2.1.1->CherryPy==18.8.0) (2.8.2)\n",
            "Requirement already satisfied: jaraco.context>=4.1 in /usr/local/lib/python3.11/dist-packages (from jaraco.text->jaraco.collections->CherryPy==18.8.0) (6.0.1)\n",
            "Requirement already satisfied: autocommand in /usr/local/lib/python3.11/dist-packages (from jaraco.text->jaraco.collections->CherryPy==18.8.0) (2.2.2)\n",
            "Requirement already satisfied: backports.tarfile in /usr/local/lib/python3.11/dist-packages (from jaraco.context>=4.1->jaraco.text->jaraco.collections->CherryPy==18.8.0) (1.2.0)\n",
            "Requirement already satisfied: six>=1.5 in /usr/local/lib/python3.11/dist-packages (from python-dateutil->tempora>=1.8->portend>=2.1.1->CherryPy==18.8.0) (1.17.0)\n"
          ]
        }
      ]
    },
    {
      "cell_type": "markdown",
      "metadata": {
        "id": "SABNExpd_BxW"
      },
      "source": [
        "### curl_local_url()"
      ]
    },
    {
      "cell_type": "code",
      "execution_count": 187,
      "metadata": {
        "id": "gsxo5ACv_BxX"
      },
      "outputs": [],
      "source": [
        "import os\n",
        "import time\n",
        "import subprocess\n",
        "\n",
        "def curl_local_url(port):\n",
        "  while True:\n",
        "    try:\n",
        "      output = subprocess.check_output(['curl', '-s', 'http://127.0.0.1:' + str(port) + '/']).decode('utf-8')\n",
        "      print(\"Success to connect http://127.0.0.1:\" + str(port) + ' ' + get_current_datestring())\n",
        "      break  # Break out of the loop if successful\n",
        "    except subprocess.CalledProcessError:\n",
        "      # print(\"Check http://127.0.0.1:\" + str(port) + \"/ failed. Retrying in 5 seconds...\")\n",
        "      time.sleep(5)\n",
        "      continue  # Retry in case of failure"
      ]
    },
    {
      "cell_type": "markdown",
      "metadata": {
        "id": "Ogys5x-Q_BxX"
      },
      "source": [
        "### wait_for_cloudflare()"
      ]
    },
    {
      "cell_type": "code",
      "execution_count": 188,
      "metadata": {
        "id": "Hfr0RQGR_BxX"
      },
      "outputs": [],
      "source": [
        "import os\n",
        "import time\n",
        "\n",
        "def wait_for_cloudflare():\n",
        "  file_path = f'/content/docker-app/{PROJECT_NAME}/.cloudflare.url'\n",
        "\n",
        "  while not os.path.exists(file_path):\n",
        "    time.sleep(3)  # Check every 1 second\n",
        "\n",
        "  # File found, read and print its contents\n",
        "  # with open(file_path, 'r') as file:\n",
        "  #   content = file.read()\n",
        "  #   print(f\"Public URL: {content}\")\n"
      ]
    },
    {
      "cell_type": "markdown",
      "metadata": {
        "id": "xhK9dqVo_BxX"
      },
      "source": [
        "### wait_for_docker_web_ready()"
      ]
    },
    {
      "cell_type": "code",
      "execution_count": 189,
      "metadata": {
        "id": "vzz8GP5l_BxY"
      },
      "outputs": [],
      "source": [
        "import os\n",
        "import time\n",
        "\n",
        "def wait_for_docker_web_ready():\n",
        "  print('\\nWaiting for docker web ready...' + get_current_datestring())\n",
        "  file_path = f'/content/docker-app/{PROJECT_NAME}/.docker-web.ready'\n",
        "\n",
        "  while not os.path.exists(file_path):\n",
        "    time.sleep(3)  # Check every 1 second\n",
        "\n",
        "  # File found, read and print its contents\n",
        "  # with open(file_path, 'r') as file:\n",
        "  #   content = file.read()\n",
        "  #   print(f\"Public URL: {content}\")\n",
        "\n",
        "  time.sleep(10)"
      ]
    },
    {
      "cell_type": "markdown",
      "metadata": {
        "id": "Y0AcHYYG_BxY"
      },
      "source": [
        "### keep_waiting()"
      ]
    },
    {
      "cell_type": "code",
      "execution_count": 190,
      "metadata": {
        "id": "WSkoESWO_BxZ"
      },
      "outputs": [],
      "source": [
        "import time\n",
        "\n",
        "def keep_waiting():\n",
        "  while True:\n",
        "    time.sleep(1)  # Check every 1 second\n"
      ]
    },
    {
      "cell_type": "markdown",
      "metadata": {
        "id": "cbNWFurF_BxZ"
      },
      "source": [
        "### mountGDrive()"
      ]
    },
    {
      "cell_type": "code",
      "execution_count": 191,
      "metadata": {
        "id": "7EXttOWB_BxZ"
      },
      "outputs": [],
      "source": [
        "import os\n",
        "from subprocess import getoutput\n",
        "from google.colab import drive\n",
        "import subprocess\n",
        "\n",
        "try:\n",
        "    GDRIVE_PATH\n",
        "except NameError:\n",
        "    GDRIVE_PATH = \"/colab/\" + PROJECT_NAME\n",
        "\n",
        "def mountGDrive():\n",
        "  if os.path.exists(\"/google-drive/MyDrive\"):\n",
        "    return True\n",
        "\n",
        "  if not os.path.exists(\"/google-drive\"):\n",
        "    drive.mount('/google-drive')  # access drive\n",
        "\n",
        "  TEMP_GDRIVE_PATH = GDRIVE_PATH\n",
        "\n",
        "  if not TEMP_GDRIVE_PATH.startswith(\"/\"):\n",
        "    TEMP_GDRIVE_PATH = \"/\" + TEMP_GDRIVE_PATH\n",
        "  if not TEMP_GDRIVE_PATH.endswith(\"/\"):\n",
        "    TEMP_GDRIVE_PATH = TEMP_GDRIVE_PATH + \"/\"\n",
        "\n",
        "  folder_path = \"/google-drive/MyDrive/docker-app\" + TEMP_GDRIVE_PATH\n",
        "  if not os.path.exists(folder_path):\n",
        "    os.makedirs(folder_path)\n",
        "\n",
        "  target_folder_path = \"/content/docker-app/\"\n",
        "  if not os.path.exists(target_folder_path):\n",
        "    os.makedirs(target_folder_path)\n",
        "\n",
        "  command = [\"ln\", \"-s\", folder_path, target_folder_path]\n",
        "  subprocess.run(command, check=True)"
      ]
    },
    {
      "cell_type": "markdown",
      "metadata": {
        "id": "ywNtiXDg_BxZ"
      },
      "source": [
        "### clearDockerData()"
      ]
    },
    {
      "cell_type": "code",
      "execution_count": 192,
      "metadata": {
        "id": "WPI0mSAU_Bxa"
      },
      "outputs": [],
      "source": [
        "import os\n",
        "from subprocess import getoutput\n",
        "import subprocess\n",
        "\n",
        "def clearDockerData():\n",
        "  stop_udocker()\n",
        "  command = [\"rm\", \"-rf\", \"/content/docker-app/\" + PROJECT_NAME]\n",
        "  subprocess.run(command, check=True)\n"
      ]
    },
    {
      "cell_type": "markdown",
      "metadata": {
        "id": "qsRWjdgk_Bxa"
      },
      "source": [
        "### get_config_from_yaml()"
      ]
    },
    {
      "cell_type": "code",
      "execution_count": 193,
      "metadata": {
        "id": "UdN1QGUo_Bxa"
      },
      "outputs": [],
      "source": [
        "import yaml\n",
        "import time\n",
        "\n",
        "def get_config_from_yaml():\n",
        "  yaml_file_path = f\"./.docker-app/{PROJECT_NAME}/app-build/docker-compose-template.yml\"\n",
        "\n",
        "  with open(yaml_file_path, \"r\") as file:\n",
        "    yaml_data = yaml.safe_load(file)\n",
        "  # print(yaml_data)\n",
        "\n",
        "  # Assuming there is only one service named \"app\" in your YAML\n",
        "  webapp_ports = yaml_data.get(\"services\", {}).get(\"app\", {}).get(\"ports\", [])\n",
        "  WEBAPP_PORT = None\n",
        "\n",
        "  for port_mapping in webapp_ports:\n",
        "      # Check if the mapping is in the format \"HOST_PORT:CONTAINER_PORT\"\n",
        "      if isinstance(port_mapping, str) and \":\" in port_mapping:\n",
        "        # print(port_mapping)\n",
        "        host_port, container_port = port_mapping.split(\":\")\n",
        "        WEBAPP_PORT = host_port\n",
        "        break\n",
        "\n",
        "  # ============\n",
        "  environments = yaml_data.get(\"services\", {}).get(\"app\", {}).get(\"environment\", [])\n",
        "\n",
        "  # ============\n",
        "  RUN_COMMAND = yaml_data.get(\"services\", {}).get(\"app\", {}).get(\"command\", [])\n",
        "  if RUN_COMMAND is not None:\n",
        "    RUN_COMMAND = \" \".join(RUN_COMMAND)\n",
        "\n",
        "  # ============\n",
        "\n",
        "  volumes = yaml_data.get(\"services\", {}).get(\"app\", {}).get(\"volumes\", [])\n",
        "  LOCAL_VOLUMN_PATH = '/data'\n",
        "\n",
        "  for volumes_mapping in volumes:\n",
        "      # Check if the mapping is in the format \"HOST_PORT:CONTAINER_PORT\"\n",
        "      if isinstance(volumes_mapping, str) and \":\" in port_mapping:\n",
        "        # print(port_mapping)\n",
        "        host_path, container_path = volumes_mapping.split(\":\")\n",
        "        LOCAL_VOLUMN_PATH = container_path\n",
        "        break\n",
        "\n",
        "  # ============\n",
        "  deploy = yaml_data.get(\"services\", {}).get(\"app\", {}).get(\"deploy\", [])\n",
        "  GPU_ENABLE = False\n",
        "  if 'resources' in deploy:\n",
        "    GPU_ENABLE = True\n",
        "\n",
        "  # ============\n",
        "  app = yaml_data.get(\"services\", {}).get(\"app\", {})\n",
        "  # print(app)\n",
        "  IMAGE_NAME = app['image']\n",
        "\n",
        "  return {\n",
        "    \"WEBAPP_PORT\": WEBAPP_PORT,\n",
        "    \"LOCAL_VOLUMN_PATH\": LOCAL_VOLUMN_PATH,\n",
        "    \"IMAGE_NAME\": IMAGE_NAME,\n",
        "    \"RUN_COMMAND\": RUN_COMMAND,\n",
        "    \"GPU_ENABLE\": GPU_ENABLE\n",
        "  }\n"
      ]
    },
    {
      "cell_type": "markdown",
      "metadata": {
        "id": "OxJ2vaYn_Bxa"
      },
      "source": [
        "#### get_environments_from_yaml()"
      ]
    },
    {
      "cell_type": "code",
      "execution_count": 194,
      "metadata": {
        "id": "ZyejNKFN_Bxa"
      },
      "outputs": [],
      "source": [
        "def get_environments_from_yaml(environments, key, default_value = None):\n",
        "\n",
        "  for env_mapping in environments:\n",
        "      # Check if the mapping is in the format \"HOST_PORT:CONTAINER_PORT\"\n",
        "      if isinstance(env_mapping, str) and key + \"=\" in env_mapping:\n",
        "        # print(port_mapping)\n",
        "        key, value = env_mapping.split(\"=\")\n",
        "        default_value = value\n",
        "        break\n",
        "\n",
        "  return default_value"
      ]
    },
    {
      "cell_type": "markdown",
      "metadata": {
        "id": "2Erbi5DLzrGm"
      },
      "source": [
        "### get_current_datestring()"
      ]
    },
    {
      "cell_type": "code",
      "execution_count": 195,
      "metadata": {
        "id": "BtzePgfNzrGm"
      },
      "outputs": [],
      "source": [
        "from datetime import datetime\n",
        "\n",
        "def get_current_datestring():\n",
        "  return datetime.now().strftime(\"%Y-%m-%d %H:%M:%S\")"
      ]
    },
    {
      "cell_type": "markdown",
      "source": [
        "### show_interval_time()"
      ],
      "metadata": {
        "id": "p5fA8SmUC92u"
      }
    },
    {
      "cell_type": "code",
      "source": [
        "from datetime import datetime\n",
        "\n",
        "def show_interval_time():\n",
        "  ready_time = datetime.now()\n",
        "\n",
        "  # Calculate the difference in minutes\n",
        "  interval_minutes = round((ready_time - START_TIME).total_seconds() / 60)\n",
        "  print(f\"Minutes spent in the startup process: {interval_minutes}\")\n",
        "\n",
        "  # print('\\nPreparing link... ' + ready_time.strftime(\"%Y-%m-%d %H:%M:%S\"))\n"
      ],
      "metadata": {
        "id": "YLOuikD5DBbq"
      },
      "execution_count": 196,
      "outputs": []
    },
    {
      "cell_type": "markdown",
      "metadata": {
        "id": "efPWZqla_Bxb"
      },
      "source": [
        "## udocker"
      ]
    },
    {
      "cell_type": "markdown",
      "metadata": {
        "id": "46yFCTEw_Bxb"
      },
      "source": [
        "### stop_udocker()"
      ]
    },
    {
      "cell_type": "code",
      "execution_count": 197,
      "metadata": {
        "id": "W4lELdzk_Bxb"
      },
      "outputs": [],
      "source": [
        "def stop_udocker():\n",
        "  #!udocker --allow-root ps\n",
        "  print('Stop udocker...' + get_current_datestring())\n",
        "  !udocker --allow-root ps | awk 'NR > 1 {print $1}' | xargs -I {} udocker --allow-root rm {}\n",
        "\n",
        "  print('Kill Java...' + get_current_datestring())\n",
        "  !pgrep java && pkill java && sleep 5\n"
      ]
    },
    {
      "cell_type": "markdown",
      "metadata": {
        "id": "yl38QOoy_Bxb"
      },
      "source": [
        "### run_udocker()"
      ]
    },
    {
      "cell_type": "code",
      "execution_count": 198,
      "metadata": {
        "id": "Q5S1Zi5t_Bxb"
      },
      "outputs": [],
      "source": [
        "def run_udocker():\n",
        "  # WEBAPP_PORT, LOCAL_VOLUMN_PATH, IMAGE_NAME, RUN_COMMAND = get_config_from_yaml()\n",
        "  YAML_CONFIG = get_config_from_yaml()\n",
        "\n",
        "  # !rm -f /content/docker-app/$PROJECT_NAME/.docker-web.ready || true\n",
        "  # !rm -f /content/docker-app/$PROJECT_NAME/.cloudflare.url || true\n",
        "  ![ -e /content/docker-app/$PROJECT_NAME/.cloudflare.url ] && rm /content/docker-app/$PROJECT_NAME/.cloudflare.url\n",
        "  ![ -e /content/docker-app/$PROJECT_NAME/.docker-web.ready ] && rm /content/docker-app/$PROJECT_NAME/.docker-web.ready\n",
        "\n",
        "  RUN_IN_BACKGROUND = True\n",
        "  if YAML_CONFIG[\"WEBAPP_PORT\"] is None:\n",
        "    RUN_IN_BACKGROUND = False\n",
        "\n",
        "  # For testing purposes\n",
        "  if FORCE_RUN_IN_FOREGROUND is True:\n",
        "    RUN_IN_BACKGROUND = False\n",
        "\n",
        "  if RUN_IN_BACKGROUND is False:\n",
        "    run_udocker_in_foreground()\n",
        "  else:\n",
        "    run_udocker_in_background()\n"
      ]
    },
    {
      "cell_type": "markdown",
      "metadata": {
        "id": "DVnhKcvX_Bxb"
      },
      "source": [
        "### run_udocker_in_foreground()"
      ]
    },
    {
      "cell_type": "code",
      "execution_count": 199,
      "metadata": {
        "id": "XnuTukZh_Bxb"
      },
      "outputs": [],
      "source": [
        "import asyncio\n",
        "\n",
        "def run_udocker_in_foreground():\n",
        "\n",
        "  # WEBAPP_PORT, LOCAL_VOLUMN_PATH, IMAGE_NAME, RUN_COMMAND = get_config_from_yaml()\n",
        "  YAML_CONFIG = get_config_from_yaml()\n",
        "\n",
        "  print('\\nRun container in foreground...' + get_current_datestring())\n",
        "\n",
        "  # print(LOCAL_VOLUMN_PATH)\n",
        "  # print(RUN_COMMAND)\n",
        "\n",
        "  !rm -rf /content/docker-app/$PROJECT_NAME\n",
        "  !mkdir -p /content/docker-app/$PROJECT_NAME\n",
        "\n",
        "  # asyncio.run(setup_cloudflared())\n",
        "\n",
        "  # =======\n",
        "\n",
        "  # show_interval_time()\n",
        "\n",
        "  # =======\n",
        "\n",
        "  udocker_command = get_udocker_run_command()\n",
        "  !$udocker_command"
      ]
    },
    {
      "cell_type": "markdown",
      "metadata": {
        "id": "Kh7Za7sN_Bxc"
      },
      "source": [
        "### run_udocker_in_background()"
      ]
    },
    {
      "cell_type": "code",
      "execution_count": 200,
      "metadata": {
        "id": "sEwa-K2I_Bxc",
        "colab": {
          "base_uri": "https://localhost:8080/"
        },
        "outputId": "58818c82-afa8-461c-c56c-845ae2c309f5"
      },
      "outputs": [
        {
          "output_type": "stream",
          "name": "stdout",
          "text": [
            "Requirement already satisfied: CherryPy==18.8.0 in /usr/local/lib/python3.11/dist-packages (18.8.0)\n",
            "Requirement already satisfied: cheroot>=8.2.1 in /usr/local/lib/python3.11/dist-packages (from CherryPy==18.8.0) (10.0.1)\n",
            "Requirement already satisfied: portend>=2.1.1 in /usr/local/lib/python3.11/dist-packages (from CherryPy==18.8.0) (3.2.0)\n",
            "Requirement already satisfied: more-itertools in /usr/local/lib/python3.11/dist-packages (from CherryPy==18.8.0) (10.5.0)\n",
            "Requirement already satisfied: zc.lockfile in /usr/local/lib/python3.11/dist-packages (from CherryPy==18.8.0) (3.0.post1)\n",
            "Requirement already satisfied: jaraco.collections in /usr/local/lib/python3.11/dist-packages (from CherryPy==18.8.0) (5.1.0)\n",
            "Requirement already satisfied: jaraco.functools in /usr/local/lib/python3.11/dist-packages (from cheroot>=8.2.1->CherryPy==18.8.0) (4.1.0)\n",
            "Requirement already satisfied: tempora>=1.8 in /usr/local/lib/python3.11/dist-packages (from portend>=2.1.1->CherryPy==18.8.0) (5.8.0)\n",
            "Requirement already satisfied: jaraco.text in /usr/local/lib/python3.11/dist-packages (from jaraco.collections->CherryPy==18.8.0) (4.0.0)\n",
            "Requirement already satisfied: setuptools in /usr/local/lib/python3.11/dist-packages (from zc.lockfile->CherryPy==18.8.0) (75.1.0)\n",
            "Requirement already satisfied: python-dateutil in /usr/local/lib/python3.11/dist-packages (from tempora>=1.8->portend>=2.1.1->CherryPy==18.8.0) (2.8.2)\n",
            "Requirement already satisfied: jaraco.context>=4.1 in /usr/local/lib/python3.11/dist-packages (from jaraco.text->jaraco.collections->CherryPy==18.8.0) (6.0.1)\n",
            "Requirement already satisfied: autocommand in /usr/local/lib/python3.11/dist-packages (from jaraco.text->jaraco.collections->CherryPy==18.8.0) (2.2.2)\n",
            "Requirement already satisfied: backports.tarfile in /usr/local/lib/python3.11/dist-packages (from jaraco.context>=4.1->jaraco.text->jaraco.collections->CherryPy==18.8.0) (1.2.0)\n",
            "Requirement already satisfied: six>=1.5 in /usr/local/lib/python3.11/dist-packages (from python-dateutil->tempora>=1.8->portend>=2.1.1->CherryPy==18.8.0) (1.17.0)\n"
          ]
        }
      ],
      "source": [
        "# 會觸發Session Restart\n",
        "!pip install CherryPy==18.8.0\n",
        "\n",
        "import cherrypy\n",
        "\n",
        "def run_udocker_in_background():\n",
        "\n",
        "\n",
        "  stop_udocker()\n",
        "\n",
        "  !mkdir -p /content/docker-app/$PROJECT_NAME\n",
        "\n",
        "  # WEBAPP_PORT, LOCAL_VOLUMN_PATH, IMAGE_NAME, RUN_COMMAND = get_config_from_yaml()\n",
        "  YAML_CONFIG = get_config_from_yaml()\n",
        "\n",
        "  !rm -rf ./*nohup.out\n",
        "  !rm -rf ./docker-app/$PROJECT_NAME/.cloudflare.url\n",
        "\n",
        "  print('\\nRun container in background...' + get_current_datestring())\n",
        "\n",
        "  ![ -e /content/.docker-app/udocker.sh ] && rm /content/.docker-app/udocker.sh\n",
        "  udocker_command = get_udocker_run_command()\n",
        "  !echo \"nohup $udocker_command > /content/.docker-app/.nohup.out 2>&1 &\" >> /content/.docker-app/udocker.sh\n",
        "  !chmod +x /content/.docker-app/udocker.sh\n",
        "  !bash /content/.docker-app/udocker.sh\n",
        "\n",
        "  cherrypy.config.update({'server.socket_host': '0.0.0.0','server.socket_port' : int(YAML_CONFIG[\"WEBAPP_PORT\"])})\n",
        "  # wait_for_cloudflare()\n",
        "  curl_local_url(YAML_CONFIG[\"WEBAPP_PORT\"])\n",
        "  wait_for_docker_web_ready()\n",
        "\n",
        "  # =======\n",
        "\n",
        "  show_interval_time()\n",
        "\n",
        "  # =======\n",
        "\n",
        "  # setup_cloudflared()\n",
        "\n",
        "  keep_waiting()"
      ]
    },
    {
      "cell_type": "markdown",
      "metadata": {
        "id": "0_HLIbPg_Bxc"
      },
      "source": [
        "### get_udocker_run_command()"
      ]
    },
    {
      "cell_type": "code",
      "execution_count": 201,
      "metadata": {
        "id": "_cijSo1V_Bxc",
        "colab": {
          "base_uri": "https://localhost:8080/"
        },
        "outputId": "6b81c63c-7edd-4bd6-b513-96c349693799"
      },
      "outputs": [
        {
          "output_type": "stream",
          "name": "stdout",
          "text": [
            "Requirement already satisfied: udocker==1.3.10 in /usr/local/lib/python3.11/dist-packages (1.3.10)\n"
          ]
        }
      ],
      "source": [
        "!pip install udocker==1.3.10\n",
        "!udocker --allow-root install\n",
        "import re\n",
        "\n",
        "def get_udocker_run_command():\n",
        "  YAML_CONFIG = get_config_from_yaml()\n",
        "\n",
        "  command = ''\n",
        "\n",
        "  IMAGE_NAME = YAML_CONFIG[\"IMAGE_NAME\"]\n",
        "  NAME_SPACE = re.sub(r'[/\\-:.]', '_', IMAGE_NAME)\n",
        "\n",
        "  print('\\nPulling the image ' + IMAGE_NAME + '...' + get_current_datestring())\n",
        "  !udocker --allow-root pull $IMAGE_NAME\n",
        "\n",
        "  print('\\nCreate the name space for ' + IMAGE_NAME + ' ...' + get_current_datestring())\n",
        "  !udocker --allow-root create --name=$NAME_SPACE $IMAGE_NAME\n",
        "\n",
        "  if YAML_CONFIG[\"GPU_ENABLE\"] == True:\n",
        "\n",
        "    print('\\nSetup nvidia for the name space sdw...' + get_current_datestring())\n",
        "    !udocker --allow-root setup --nvidia --force $NAME_SPACE\n",
        "\n",
        "  command = \"udocker --allow-root run \" + \\\n",
        "    \"-p \" + YAML_CONFIG[\"WEBAPP_PORT\"] + \":\" + YAML_CONFIG[\"WEBAPP_PORT\"] + \\\n",
        "    \" \" + \\\n",
        "    \"--volume=/content/docker-app/\" + PROJECT_NAME + \":\" + YAML_CONFIG[\"LOCAL_VOLUMN_PATH\"] + \\\n",
        "    \" \" + \\\n",
        "    NAME_SPACE\n",
        "\n",
        "  print(command)\n",
        "\n",
        "  return command"
      ]
    },
    {
      "cell_type": "markdown",
      "source": [
        "### setup_cloudflared()"
      ],
      "metadata": {
        "id": "FOr04BvCQEbs"
      }
    },
    {
      "cell_type": "code",
      "source": [
        "import time\n",
        "import re\n",
        "\n",
        "def setup_cloudflared():\n",
        "  YAML_CONFIG = get_config_from_yaml()\n",
        "\n",
        "  print('\\nWaiting for server ready... ' + get_current_datestring())\n",
        "  curl_local_url(YAML_CONFIG[\"WEBAPP_PORT\"])\n",
        "  wait_for_docker_web_ready()\n",
        "\n",
        "  if os.path.isfile('/content/.docker-app/.cloudflared') is False:\n",
        "    !wget https://github.com/cloudflare/cloudflared/releases/latest/download/cloudflared-linux-amd64 -O /content/.docker-app/.cloudflared\n",
        "    !chmod +x /content/.docker-app/.cloudflared\n",
        "\n",
        "  #!cat /content/docker-app/docker-web-Apache-Solr/solrconfig.xml | grep dc.publisher\n",
        "  cloudflared_command = '/content/.docker-app/.cloudflared --url \"http://127.0.0.1:' + YAML_CONFIG[\"WEBAPP_PORT\"] + '\"'\n",
        "\n",
        "\n",
        "  !echo \"nohup $cloudflared_command > /content/.docker-app/.cloudflared.nohup.out 2>&1 &\" >> /content/.docker-app/cloudflared.sh\n",
        "  !chmod +x /content/.docker-app/cloudflared.sh\n",
        "  !bash /content/.docker-app/cloudflared.sh\n",
        "\n",
        "  time.sleep(10)\n",
        "\n",
        "  file_path = \"/content/.docker-app/.cloudflared.nohup.out\"\n",
        "  cloudflare_url = None\n",
        "\n",
        "  while cloudflare_url is None:\n",
        "      try:\n",
        "          with open(file_path, \"r\") as file:\n",
        "              content = file.read()\n",
        "              match = re.search(r\"https?://[\\w.-]+\\.trycloudflare\\.com\", content)\n",
        "              if match:\n",
        "                  cloudflare_url = match.group(0)\n",
        "                  # print(f\"Found Cloudflare URL: {cloudflare_url} \" + get_current_datestring())\n",
        "                  break\n",
        "      except FileNotFoundError:\n",
        "          print(\"File not found. Retrying in 10 seconds...\")\n",
        "      except Exception as e:\n",
        "          print(f\"Error reading file: {e}\")\n",
        "\n",
        "      time.sleep(10)\n",
        "\n",
        "  print('\\n============================================================================')\n",
        "  show_interval_time()\n",
        "  print('Public URL: ' + cloudflare_url)\n",
        "  # print('')\n",
        "  # print('You still need to wait for the subsequent execution to succeed before the URL displays the correct content.')\n",
        "  print('============================================================================')"
      ],
      "metadata": {
        "id": "LQkWeVKoQHDD"
      },
      "execution_count": 202,
      "outputs": []
    },
    {
      "cell_type": "markdown",
      "source": [
        "#### run_setup_cloudflared()"
      ],
      "metadata": {
        "id": "Lq5adPws9KkS"
      }
    },
    {
      "cell_type": "code",
      "source": [
        "import asyncio\n",
        "\n",
        "async def run_setup_cloudflared():\n",
        "    print(\"[INFO] Starting Cloudflared setup...\")\n",
        "    loop = asyncio.get_running_loop()\n",
        "    print(\"[INFO] Starting Cloudflared setup... ok?\")\n",
        "    await loop.run_in_executor(None, setup_cloudflared)"
      ],
      "metadata": {
        "id": "6HcgnORW432L"
      },
      "execution_count": 203,
      "outputs": []
    },
    {
      "cell_type": "markdown",
      "source": [
        "### setup_git_project()"
      ],
      "metadata": {
        "id": "6ZKCfesi8f6_"
      }
    },
    {
      "cell_type": "code",
      "source": [
        "def setup_git_project():\n",
        "  if os.path.isdir('/content/.docker-app/') is False:\n",
        "    !mkdir -p ./.docker-app\n",
        "\n",
        "  if os.path.isdir('/content/.docker-app/' + PROJECT_NAME) is False:\n",
        "    print('Try to initialize project...' + get_current_datestring())\n",
        "\n",
        "    %cd /content/.docker-app\n",
        "    !git clone \"https://github.com/{PROJECT_OWNER}/{PROJECT_NAME}.git\"\n",
        "    !git config --global pull.rebase false\n",
        "    !git config --global user.email \"blog@pulipuli.info\"\n",
        "    !git config --global user.name \"Pulipuli Chen\"\n",
        "  else:\n",
        "    print('Try to update project...' + get_current_datestring())\n",
        "\n",
        "    %cd /content/.docker-app/$PROJECT_NAME\n",
        "    !git reset --hard\n",
        "    !git pull --force\n",
        "\n",
        "  %cd /content/"
      ],
      "metadata": {
        "id": "urCqysi38iyL"
      },
      "execution_count": 204,
      "outputs": []
    },
    {
      "cell_type": "markdown",
      "metadata": {
        "id": "99JDttT3_Bxc"
      },
      "source": [
        "## main() (must be the last)"
      ]
    },
    {
      "cell_type": "code",
      "execution_count": 205,
      "metadata": {
        "colab": {
          "base_uri": "https://localhost:8080/"
        },
        "id": "WgfrM-0nAIR9",
        "outputId": "966eaf78-c538-4502-b4e0-c1f69ebc4fe6"
      },
      "outputs": [
        {
          "output_type": "stream",
          "name": "stdout",
          "text": [
            "/content\n"
          ]
        }
      ],
      "source": [
        "%cd /content\n",
        "if os.path.isdir('/content/sample_data'):\n",
        "  !rm -rf ./sample_data*\n",
        "\n",
        "# ==================\n",
        "\n",
        "from datetime import datetime\n",
        "START_TIME = datetime.now()\n",
        "\n",
        "def main():\n",
        "  setup_git_project()\n",
        "\n",
        "  asyncio.create_task(run_setup_cloudflared())\n",
        "\n",
        "  START_TIME = datetime.now()\n",
        "  print('\\nPreparing environment... ' + START_TIME.strftime(\"%Y-%m-%d %H:%M:%S\"))\n",
        "\n",
        "  # mountGDrive() # 開啟Google Drive掛載功能\n",
        "  run_udocker()"
      ]
    },
    {
      "cell_type": "code",
      "execution_count": 206,
      "metadata": {
        "id": "kz52yq8PJlfJ"
      },
      "outputs": [],
      "source": [
        "# For Testing purposes\n",
        "\n",
        "#clearDockerData()"
      ]
    },
    {
      "cell_type": "markdown",
      "metadata": {
        "id": "YvCrB6m3rr8E"
      },
      "source": [
        "# **Runtime**"
      ]
    },
    {
      "cell_type": "code",
      "execution_count": 207,
      "metadata": {
        "colab": {
          "base_uri": "https://localhost:8080/"
        },
        "id": "QoDmlNHCsSLP",
        "outputId": "5e19bd11-6245-440b-eecd-190922dffd1a"
      },
      "outputs": [
        {
          "output_type": "stream",
          "name": "stdout",
          "text": [
            "Try to update project...2025-02-03 17:50:35\n",
            "/content/.docker-app/colab-File-Browser\n",
            "HEAD is now at 4ca50f8 Created using Colab\n",
            "Already up to date.\n",
            "/content\n",
            "\n",
            "Preparing environment... 2025-02-03 17:50:36\n",
            "\n",
            "Run container in foreground...2025-02-03 17:50:36\n",
            "\n",
            "Pulling the image pudding/docker-web:colab-file-browser-20250203.210626...2025-02-03 17:50:37\n",
            "Info: downloading layer sha256:81463de3d3e40def8a8deebfdb5df4131a0c386dcfc1f5b2ba35ac29528ab486\n",
            "Info: downloading layer sha256:4f4fb700ef54461cfa02571ae0db9a0dc1e0cdb5577484a6d75e68dc38e8acc1\n",
            "Info: downloading layer sha256:22a000724d336b2928d092eb5c6706338a1ec497f1c65457557fefb5d8a3a79b\n",
            "Info: downloading layer sha256:765ac7573f365d1e418b43cdb31f052323c85faa2a0dd0ddc4d5c1fbcfe726bd\n",
            "Info: downloading layer sha256:54f006d8f037975ea822f6863e64d2002efd6482498ff3bd5e9c536dde024ae0\n",
            "Info: downloading layer sha256:118df6eacbe30c327bac9be3b223aaccbcfe10a43285692411a4742295cbfa8a\n",
            "Info: downloading layer sha256:4c4be17cfc167ba19a8e2e30ea1ea3ef3af27f923ae7f6899d46ac0ebef72170\n",
            "Info: downloading layer sha256:c7ee4fb04a31b86868cbac801da6f9deb9d9b6c4306a60f590b5da99196b8a52\n",
            "Info: downloading layer sha256:d05adeb296d528568319e3a26e708a43f2920f2f231613fb6ead2bbb5e18fbe4\n",
            "Info: downloading layer sha256:1eee29b1b7d691336ac9ee079ff646af3e415e2d45badcc283db209d995e177f\n",
            "Info: downloading layer sha256:6a059756e58e6440b2c2a6d49f4b2f3e2ee9917560f377485d712b56b1d10c51\n",
            "Info: downloading layer sha256:e88a7d75ef10ca2e4be47561080ade3d690178631bbe7fb2cf6c8177f92c181b\n",
            "Info: downloading layer sha256:06e36ab5d39b3dbdfab1ac6be1b6aa8ed8593bc63edd9354afb93bb8bd77f228\n",
            "Info: downloading layer sha256:8d3317986bb712a59c83e66e1cbdeb3e1ddbfe0f5f97a15dcd65b9a9991fde94\n",
            "Info: downloading layer sha256:9e5d7366f43ce43b2fc8754efb6fac712231889930cf93d271ecde9078c12cbd\n",
            "Info: downloading layer sha256:b237fe92c4173e4dfb3ba82e76e5fed4b16186a6161e07af15814cb40eb9069d\n",
            "\n",
            "Create the name space for pudding/docker-web:colab-file-browser-20250203.210626 ...2025-02-03 17:50:42\n",
            "Error: container name already exists\n",
            "udocker --allow-root run -p 8081:8081 --volume=/content/docker-app/colab-File-Browser:/data pudding_docker_web_colab_file_browser_20250203_210626\n",
            " \n",
            " ****************************************************************************** \n",
            " *                                                                            * \n",
            " *               STARTING 351e7657-710c-3d8b-9e6e-c661c6d52dd5                * \n",
            " *                                                                            * \n",
            " ****************************************************************************** \n",
            " executing: bash\n",
            "Start APP... Mon Feb  3 17:50:43 UTC 2025\n",
            "2025/02/03 17:50:44 No config file used\n",
            "2025/02/03 17:50:44 Listening on [::]:8081\n",
            "Success to connect http://127.0.0.1:8081 2025-02-03 17:50:45\n",
            "\n",
            "Waiting for docker web ready...2025-02-03 17:50:45\n",
            "http://127.0.0.1:8081\n",
            "Connection successful.\n",
            "After APP Start... Mon Feb  3 17:50:57 UTC 2025\n",
            "After start is OK.\n",
            "Waiting for 10 seconds...\n",
            "Received HTML, it's okay!\n",
            "================================================================\n",
            "File Browser is ready to serve. Mon Feb  3 17:51:17 UTC 2025\n",
            "================================================================\n",
            "\n",
            "============================================================================\n",
            "Minutes spent in the startup process: 1\n",
            "Public URL: https://hamburg-separated-defined-powerpoint.trycloudflare.com\n",
            "============================================================================\n",
            "2025/02/03 17:52:07 Caught signal interrupt: shutting down.\n",
            "2025/02/03 17:52:07 accept tcp [::]:8081: use of closed network connection\n",
            "Info: keyboard interrupt\n"
          ]
        }
      ],
      "source": [
        "# mountGDrive() # 開啟Google Drive掛載功能\n",
        "main()"
      ]
    }
  ],
  "metadata": {
    "colab": {
      "provenance": [],
      "include_colab_link": true
    },
    "kernelspec": {
      "display_name": "Python 3",
      "name": "python3"
    },
    "language_info": {
      "name": "python"
    }
  },
  "nbformat": 4,
  "nbformat_minor": 0
}