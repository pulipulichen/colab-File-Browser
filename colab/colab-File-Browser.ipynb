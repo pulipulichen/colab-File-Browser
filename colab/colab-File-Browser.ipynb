{
  "cells": [
    {
      "cell_type": "markdown",
      "metadata": {
        "id": "view-in-github",
        "colab_type": "text"
      },
      "source": [
        "<a href=\"https://colab.research.google.com/github/pulipulichen/colab-File-Browser/blob/main/colab/colab-File-Browser.ipynb\" target=\"_parent\"><img src=\"https://colab.research.google.com/assets/colab-badge.svg\" alt=\"Open In Colab\"/></a>"
      ]
    },
    {
      "cell_type": "markdown",
      "metadata": {
        "id": "wW4llNGArA4j"
      },
      "source": [
        "# **colab-File-Browser**\n",
        "\n",
        "@TODO\n",
        "\n",
        "1. 按 `Runtime` > `Run all`，或按Ctrl + F9，直接執行腳本即可。\n",
        "2. 若遇到 Restart...\n",
        "\n",
        "@TODO\n",
        "操作說明請看：https://ppt.cc/fqbnwx"
      ]
    },
    {
      "cell_type": "markdown",
      "metadata": {
        "id": "ggtazX04AG9o"
      },
      "source": [
        "# Script"
      ]
    },
    {
      "cell_type": "markdown",
      "metadata": {
        "id": "C_XdvVwo_BxU"
      },
      "source": [
        "## Configurations for script"
      ]
    },
    {
      "cell_type": "code",
      "execution_count": 1,
      "metadata": {
        "id": "QEuow7m5Ai6B"
      },
      "outputs": [],
      "source": [
        "PROJECT_OWNER=\"pulipulichen\"\n",
        "PROJECT_NAME=\"colab-File-Browser\"\n"
      ]
    },
    {
      "cell_type": "markdown",
      "metadata": {
        "id": "wNN0_GacPccb"
      },
      "source": [
        "測試的方式\n",
        "\n",
        "1. `Runtime` > `Run all` (Ctrl + F9)\n",
        "2. 等待Cloudflare網址可連"
      ]
    },
    {
      "cell_type": "markdown",
      "metadata": {
        "id": "6G5pgmiP_BxW"
      },
      "source": [
        "## Core Tools"
      ]
    },
    {
      "cell_type": "markdown",
      "metadata": {
        "id": "SABNExpd_BxW"
      },
      "source": [
        "### curl_local_url()"
      ]
    },
    {
      "cell_type": "code",
      "execution_count": 2,
      "metadata": {
        "id": "gsxo5ACv_BxX"
      },
      "outputs": [],
      "source": [
        "import os\n",
        "import time\n",
        "import subprocess\n",
        "\n",
        "inited = True\n",
        "if os.path.isfile('.inited') is False:\n",
        "  inited = False\n",
        "\n",
        "def curl_local_url(port):\n",
        "  while True:\n",
        "    try:\n",
        "      output = subprocess.check_output(['curl', '-s', 'http://127.0.0.1:' + str(port) + '/']).decode('utf-8')\n",
        "      print(\"Success to connect http://127.0.0.1:\" + str(port))\n",
        "      break  # Break out of the loop if successful\n",
        "    except subprocess.CalledProcessError:\n",
        "      # print(\"Check http://127.0.0.1:\" + str(port) + \"/ failed. Retrying in 5 seconds...\")\n",
        "      time.sleep(5)\n",
        "      continue  # Retry in case of failure"
      ]
    },
    {
      "cell_type": "markdown",
      "metadata": {
        "id": "Ogys5x-Q_BxX"
      },
      "source": [
        "### wait_for_cloudflare()"
      ]
    },
    {
      "cell_type": "code",
      "execution_count": 3,
      "metadata": {
        "id": "Hfr0RQGR_BxX"
      },
      "outputs": [],
      "source": [
        "import os\n",
        "import time\n",
        "\n",
        "def wait_for_cloudflare():\n",
        "  file_path = f'/content/docker-app/{PROJECT_NAME}/.cloudflare.url'\n",
        "\n",
        "  while not os.path.exists(file_path):\n",
        "    time.sleep(3)  # Check every 1 second\n",
        "\n",
        "  # File found, read and print its contents\n",
        "  # with open(file_path, 'r') as file:\n",
        "  #   content = file.read()\n",
        "  #   print(f\"Public URL: {content}\")\n"
      ]
    },
    {
      "cell_type": "markdown",
      "metadata": {
        "id": "xhK9dqVo_BxX"
      },
      "source": [
        "### wait_for_docker_web_ready()"
      ]
    },
    {
      "cell_type": "code",
      "execution_count": 4,
      "metadata": {
        "id": "vzz8GP5l_BxY"
      },
      "outputs": [],
      "source": [
        "import os\n",
        "import time\n",
        "\n",
        "def wait_for_docker_web_ready():\n",
        "  file_path = f'/content/docker-app/{PROJECT_NAME}/.docker-web.ready'\n",
        "\n",
        "  while not os.path.exists(file_path):\n",
        "    time.sleep(3)  # Check every 1 second\n",
        "\n",
        "  # File found, read and print its contents\n",
        "  # with open(file_path, 'r') as file:\n",
        "  #   content = file.read()\n",
        "  #   print(f\"Public URL: {content}\")\n",
        "\n",
        "  time.sleep(10)"
      ]
    },
    {
      "cell_type": "markdown",
      "metadata": {
        "id": "Y0AcHYYG_BxY"
      },
      "source": [
        "### keep_waiting()"
      ]
    },
    {
      "cell_type": "code",
      "execution_count": 5,
      "metadata": {
        "id": "WSkoESWO_BxZ"
      },
      "outputs": [],
      "source": [
        "import time\n",
        "\n",
        "def keep_waiting():\n",
        "  while True:\n",
        "    time.sleep(1)  # Check every 1 second\n"
      ]
    },
    {
      "cell_type": "markdown",
      "metadata": {
        "id": "cbNWFurF_BxZ"
      },
      "source": [
        "### mountGDrive()"
      ]
    },
    {
      "cell_type": "code",
      "execution_count": 6,
      "metadata": {
        "id": "7EXttOWB_BxZ"
      },
      "outputs": [],
      "source": [
        "import os\n",
        "from subprocess import getoutput\n",
        "from google.colab import drive\n",
        "import subprocess\n",
        "\n",
        "def mountGDrive():\n",
        "  if not os.path.exists(\"/google-drive\"):\n",
        "    drive.mount('/google-drive')  # access drive\n",
        "  folder_path = \"/google-drive/MyDrive/docker-app/\" + PROJECT_NAME + \"/\"\n",
        "  if not os.path.exists(folder_path):\n",
        "    os.makedirs(folder_path)\n",
        "\n",
        "  target_folder_path = \"/content/docker-app/\"\n",
        "  if not os.path.exists(target_folder_path):\n",
        "    os.makedirs(target_folder_path)\n",
        "\n",
        "  command = [\"ln\", \"-s\", folder_path, target_folder_path]\n",
        "  subprocess.run(command, check=True)"
      ]
    },
    {
      "cell_type": "markdown",
      "metadata": {
        "id": "ywNtiXDg_BxZ"
      },
      "source": [
        "### clearDockerData()"
      ]
    },
    {
      "cell_type": "code",
      "execution_count": 7,
      "metadata": {
        "id": "WPI0mSAU_Bxa"
      },
      "outputs": [],
      "source": [
        "import os\n",
        "from subprocess import getoutput\n",
        "import subprocess\n",
        "\n",
        "def clearDockerData():\n",
        "  stop_udocker()\n",
        "  command = [\"rm\", \"-rf\", \"/content/docker-app/\" + PROJECT_NAME]\n",
        "  subprocess.run(command, check=True)\n"
      ]
    },
    {
      "cell_type": "markdown",
      "metadata": {
        "id": "qsRWjdgk_Bxa"
      },
      "source": [
        "### get_config_from_yaml()"
      ]
    },
    {
      "cell_type": "code",
      "execution_count": 8,
      "metadata": {
        "id": "UdN1QGUo_Bxa"
      },
      "outputs": [],
      "source": [
        "import yaml\n",
        "import subprocess\n",
        "import cherrypy\n",
        "import time\n",
        "\n",
        "if inited is False:\n",
        "  !pip install CherryPy==18.8.0\n",
        "  !pip install udocker==1.3.10\n",
        "  !udocker --allow-root install\n",
        "\n",
        "  from google.colab.output import eval_js\n",
        "  !rm -rf ./sample_data*\n",
        "\n",
        "  !pip install pyyaml==6.0.1\n",
        "\n",
        "def get_config_from_yaml():\n",
        "  yaml_file_path = f\"./.docker-app/{PROJECT_NAME}/app-build/docker-compose-template.yml\"\n",
        "\n",
        "  with open(yaml_file_path, \"r\") as file:\n",
        "    yaml_data = yaml.safe_load(file)\n",
        "  # print(yaml_data)\n",
        "\n",
        "  # Assuming there is only one service named \"app\" in your YAML\n",
        "  webapp_ports = yaml_data.get(\"services\", {}).get(\"app\", {}).get(\"ports\", [])\n",
        "  WEBAPP_PORT = None\n",
        "\n",
        "  for port_mapping in webapp_ports:\n",
        "      # Check if the mapping is in the format \"HOST_PORT:CONTAINER_PORT\"\n",
        "      if isinstance(port_mapping, str) and \":\" in port_mapping:\n",
        "        # print(port_mapping)\n",
        "        host_port, container_port = port_mapping.split(\":\")\n",
        "        WEBAPP_PORT = host_port\n",
        "        break\n",
        "\n",
        "  # ============\n",
        "  environments = yaml_data.get(\"services\", {}).get(\"app\", {}).get(\"environment\", [])\n",
        "  LOCAL_VOLUMN_PATH = get_environments_from_yaml(environments, 'LOCAL_VOLUMN_PATH')\n",
        "  RUN_COMMAND = get_environments_from_yaml(environments, 'RUN_COMMAND')\n",
        "\n",
        "  # ============\n",
        "  app = yaml_data.get(\"services\", {}).get(\"app\", {})\n",
        "  # print(app)\n",
        "  IMAGE_NAME = app['image']\n",
        "\n",
        "  return {\n",
        "    \"WEBAPP_PORT\": WEBAPP_PORT,\n",
        "    \"LOCAL_VOLUMN_PATH\": LOCAL_VOLUMN_PATH,\n",
        "    \"IMAGE_NAME\": IMAGE_NAME,\n",
        "    \"RUN_COMMAND\": RUN_COMMAND\n",
        "  }\n"
      ]
    },
    {
      "cell_type": "markdown",
      "metadata": {
        "id": "OxJ2vaYn_Bxa"
      },
      "source": [
        "#### get_environments_from_yaml()"
      ]
    },
    {
      "cell_type": "code",
      "execution_count": 9,
      "metadata": {
        "id": "ZyejNKFN_Bxa"
      },
      "outputs": [],
      "source": [
        "def get_environments_from_yaml(environments, key, default_value = None):\n",
        "\n",
        "  for env_mapping in environments:\n",
        "      # Check if the mapping is in the format \"HOST_PORT:CONTAINER_PORT\"\n",
        "      if isinstance(env_mapping, str) and key + \"=\" in env_mapping:\n",
        "        # print(port_mapping)\n",
        "        key, value = env_mapping.split(\"=\")\n",
        "        default_value = value\n",
        "        break\n",
        "\n",
        "  return default_value"
      ]
    },
    {
      "cell_type": "markdown",
      "metadata": {
        "id": "efPWZqla_Bxb"
      },
      "source": [
        "## udocker"
      ]
    },
    {
      "cell_type": "markdown",
      "metadata": {
        "id": "46yFCTEw_Bxb"
      },
      "source": [
        "### stop_udocker()"
      ]
    },
    {
      "cell_type": "code",
      "execution_count": 10,
      "metadata": {
        "id": "W4lELdzk_Bxb"
      },
      "outputs": [],
      "source": [
        "def stop_udocker():\n",
        "  #!udocker --allow-root ps\n",
        "  !udocker --allow-root ps | awk 'NR > 1 {print $1}' | xargs -I {} udocker --allow-root rm {}\n",
        "  !pgrep java && pkill java && sleep 5\n"
      ]
    },
    {
      "cell_type": "markdown",
      "metadata": {
        "id": "yl38QOoy_Bxb"
      },
      "source": [
        "### run_udocker()"
      ]
    },
    {
      "cell_type": "code",
      "execution_count": 11,
      "metadata": {
        "id": "Q5S1Zi5t_Bxb"
      },
      "outputs": [],
      "source": [
        "def run_udocker():\n",
        "  # WEBAPP_PORT, LOCAL_VOLUMN_PATH, IMAGE_NAME, RUN_COMMAND = get_config_from_yaml()\n",
        "  YAML_CONFIG = get_config_from_yaml()\n",
        "\n",
        "  # !rm -f /content/docker-app/$PROJECT_NAME/.docker-web.ready || true\n",
        "  # !rm -f /content/docker-app/$PROJECT_NAME/.cloudflare.url || true\n",
        "  ![ -e /content/docker-app/$PROJECT_NAME/.cloudflare.url ] && rm /content/docker-app/$PROJECT_NAME/.cloudflare.url\n",
        "  ![ -e /content/docker-app/$PROJECT_NAME/.docker-web.ready ] && rm /content/docker-app/$PROJECT_NAME/.docker-web.ready\n",
        "\n",
        "  RUN_IN_BACKGROUND = True\n",
        "  if YAML_CONFIG[\"WEBAPP_PORT\"] is None:\n",
        "    RUN_IN_BACKGROUND = False\n",
        "\n",
        "  # For testing purposes\n",
        "  RUN_IN_BACKGROUND = False\n",
        "\n",
        "  if RUN_IN_BACKGROUND is False:\n",
        "    run_udocker_in_foreground()\n",
        "  else:\n",
        "    run_udocker_in_background()\n"
      ]
    },
    {
      "cell_type": "markdown",
      "metadata": {
        "id": "DVnhKcvX_Bxb"
      },
      "source": [
        "### run_udocker_in_foreground()"
      ]
    },
    {
      "cell_type": "code",
      "execution_count": 12,
      "metadata": {
        "id": "XnuTukZh_Bxb"
      },
      "outputs": [],
      "source": [
        "def run_udocker_in_foreground():\n",
        "\n",
        "  # WEBAPP_PORT, LOCAL_VOLUMN_PATH, IMAGE_NAME, RUN_COMMAND = get_config_from_yaml()\n",
        "  YAML_CONFIG = get_config_from_yaml()\n",
        "\n",
        "  # print('Run container in foreground..')\n",
        "  # subprocess.run(['udocker', '--allow-root', 'run', '-p' ,f'\"{WEBAPP_PORT}:{WEBAPP_PORT}\"', f'--volume=\"/content/docker-app/{PROJECT_NAME}:{LOCAL_VOLUMN_PATH}\"', IMAGE_NAME])\n",
        "  # !udocker --allow-root run -p \"$WEBAPP_PORT:$WEBAPP_PORT\" --volume=\"/content/docker-app/$PROJECT_NAME:$LOCAL_VOLUMN_PATH\" $IMAGE_NAME\n",
        "\n",
        "  # print(LOCAL_VOLUMN_PATH)\n",
        "  # print(RUN_COMMAND)\n",
        "\n",
        "  !rm -rf /content/docker-app/$PROJECT_NAME\n",
        "  !mkdir -p /content/docker-app/$PROJECT_NAME\n",
        "\n",
        "  udocker_command = get_udocker_run_command()\n",
        "  !$udocker_command\n",
        "\n",
        "  print(\"Finish\")"
      ]
    },
    {
      "cell_type": "markdown",
      "metadata": {
        "id": "Kh7Za7sN_Bxc"
      },
      "source": [
        "### run_udocker_in_background()"
      ]
    },
    {
      "cell_type": "code",
      "execution_count": 13,
      "metadata": {
        "id": "sEwa-K2I_Bxc"
      },
      "outputs": [],
      "source": [
        "def run_udocker_in_background():\n",
        "\n",
        "  if os.path.isfile('.cloudflared') is False:\n",
        "    !wget https://github.com/cloudflare/cloudflared/releases/latest/download/cloudflared-linux-amd64 -O .cloudflared\n",
        "    !chmod a+x .cloudflared\n",
        "\n",
        "  stop_udocker()\n",
        "\n",
        "  !mkdir -p /content/docker-app/$PROJECT_NAME\n",
        "\n",
        "  # WEBAPP_PORT, LOCAL_VOLUMN_PATH, IMAGE_NAME, RUN_COMMAND = get_config_from_yaml()\n",
        "  YAML_CONFIG = get_config_from_yaml()\n",
        "\n",
        "  !rm -rf ./*nohup.out\n",
        "  !rm -rf ./docker-app/$PROJECT_NAME/.cloudflare.url\n",
        "\n",
        "  print('Run container in background..')\n",
        "  ![ -e /content/.docker-app/udocker.sh ] && rm /content/.docker-app/udocker.sh\n",
        "  udocker_command = get_udocker_run_command()\n",
        "  !echo \"nohup $udocker_command > .nohup.out 2>&1 &\" >> /content/.docker-app/udocker.sh\n",
        "  !chmod +x /content/.docker-app/udocker.sh\n",
        "  !bash /content/.docker-app/udocker.sh\n",
        "\n",
        "  cherrypy.config.update({'server.socket_host': '0.0.0.0','server.socket_port' : int(YAML_CONFIG[\"WEBAPP_PORT\"])})\n",
        "  # wait_for_cloudflare()\n",
        "  curl_local_url(YAML_CONFIG[\"WEBAPP_PORT\"])\n",
        "  wait_for_docker_web_ready()\n",
        "\n",
        "  print('============================================================================')\n",
        "  print('請找到下面訊息的網址。網址的結尾必須為「.trycloudflare.com 」。')\n",
        "  print('例如：https://organised-norton-talks-autos.trycloudflare.com')\n",
        "  print('')\n",
        "  print('如果超過5分鐘仍然沒有顯示資訊，請中斷執行後，重新執行這個cell。')\n",
        "  print('============================================================================')\n",
        "  #!cat /content/docker-app/docker-web-Apache-Solr/solrconfig.xml | grep dc.publisher\n",
        "  !./.cloudflared --url \"http://127.0.0.1:$YAML_CONFIG[\"WEBAPP_PORT\"]\"\n"
      ]
    },
    {
      "cell_type": "markdown",
      "metadata": {
        "id": "0_HLIbPg_Bxc"
      },
      "source": [
        "### get_udocker_run_command()"
      ]
    },
    {
      "cell_type": "code",
      "execution_count": 14,
      "metadata": {
        "id": "_cijSo1V_Bxc"
      },
      "outputs": [],
      "source": [
        "def get_udocker_run_command():\n",
        "  YAML_CONFIG = get_config_from_yaml()\n",
        "\n",
        "  command = \"udocker --allow-root run \" + \\\n",
        "    \"-p \" + YAML_CONFIG[\"WEBAPP_PORT\"] + \":\" + YAML_CONFIG[\"WEBAPP_PORT\"] + \\\n",
        "    \" \" + \\\n",
        "    \"--volume=/content/docker-app/\" + PROJECT_NAME + \":\" + YAML_CONFIG[\"LOCAL_VOLUMN_PATH\"] + \\\n",
        "    \" \" + \\\n",
        "    YAML_CONFIG[\"IMAGE_NAME\"]\n",
        "\n",
        "  print(command)\n",
        "\n",
        "  return command"
      ]
    },
    {
      "cell_type": "markdown",
      "metadata": {
        "id": "99JDttT3_Bxc"
      },
      "source": [
        "## main() (must be the last)"
      ]
    },
    {
      "cell_type": "code",
      "execution_count": 15,
      "metadata": {
        "colab": {
          "base_uri": "https://localhost:8080/"
        },
        "id": "WgfrM-0nAIR9",
        "outputId": "0232725f-9a22-4c97-a270-bab2b2ef4cca"
      },
      "outputs": [
        {
          "output_type": "stream",
          "name": "stdout",
          "text": [
            "/content/.docker-app/colab-File-Browser\n",
            "HEAD is now at 1127d3c 西元2025年02月02日 (週日) 22時06分03秒 CST\n",
            "Already up to date.\n",
            "/content\n"
          ]
        }
      ],
      "source": [
        "\n",
        "if inited is False:\n",
        "  %cd /content\n",
        "  !touch .inited\n",
        "  inited = True\n",
        "\n",
        "# ==================\n",
        "\n",
        "!mkdir -p ./.docker-app\n",
        "\n",
        "if os.path.isdir('/content/.docker-app/' + PROJECT_NAME) is False:\n",
        "  %cd /content/.docker-app\n",
        "  !git clone \"https://github.com/{PROJECT_OWNER}/{PROJECT_NAME}.git\"\n",
        "else:\n",
        "  %cd /content/.docker-app/$PROJECT_NAME\n",
        "  !git reset --hard\n",
        "  !git pull --force\n",
        "%cd /content/\n",
        "\n",
        "# ==================\n",
        "\n",
        "def main():\n",
        "  run_udocker()"
      ]
    },
    {
      "cell_type": "code",
      "execution_count": 16,
      "metadata": {
        "id": "kz52yq8PJlfJ"
      },
      "outputs": [],
      "source": [
        "# For Testing purposes\n",
        "\n",
        "#clearDockerData()"
      ]
    },
    {
      "cell_type": "markdown",
      "metadata": {
        "id": "YvCrB6m3rr8E"
      },
      "source": [
        "# **Runtime**"
      ]
    },
    {
      "cell_type": "code",
      "execution_count": 17,
      "metadata": {
        "colab": {
          "base_uri": "https://localhost:8080/"
        },
        "id": "QoDmlNHCsSLP",
        "outputId": "da2e35cd-ce3c-4908-de30-728b1bb87012"
      },
      "outputs": [
        {
          "output_type": "stream",
          "name": "stdout",
          "text": [
            "udocker --allow-root run -p 8081:8081 --volume=/content/docker-app/colab-File-Browser:/data pudding/docker-web:colab-file-browser-20250202.220343\n",
            "Error: create container: getting layers or json\n",
            "Info: downloading layer sha256:a26af6de5f791e11db1b79daa044d53d5dacb458925aec53b2da8976e6818f10\n",
            "Info: downloading layer sha256:4f4fb700ef54461cfa02571ae0db9a0dc1e0cdb5577484a6d75e68dc38e8acc1\n",
            "Info: downloading layer sha256:22a000724d336b2928d092eb5c6706338a1ec497f1c65457557fefb5d8a3a79b\n",
            "Info: downloading layer sha256:765ac7573f365d1e418b43cdb31f052323c85faa2a0dd0ddc4d5c1fbcfe726bd\n",
            "Info: downloading layer sha256:ba3cfb2a229676c3f7eb5f6dadb75a0c08f93a748824e78afbcabf62c1fdd5ff\n",
            "Info: downloading layer sha256:118df6eacbe30c327bac9be3b223aaccbcfe10a43285692411a4742295cbfa8a\n",
            "Info: downloading layer sha256:4c4be17cfc167ba19a8e2e30ea1ea3ef3af27f923ae7f6899d46ac0ebef72170\n",
            "Info: downloading layer sha256:c7ee4fb04a31b86868cbac801da6f9deb9d9b6c4306a60f590b5da99196b8a52\n",
            "Info: downloading layer sha256:d05adeb296d528568319e3a26e708a43f2920f2f231613fb6ead2bbb5e18fbe4\n",
            "Info: downloading layer sha256:1eee29b1b7d691336ac9ee079ff646af3e415e2d45badcc283db209d995e177f\n",
            "Info: downloading layer sha256:6a059756e58e6440b2c2a6d49f4b2f3e2ee9917560f377485d712b56b1d10c51\n",
            "Info: downloading layer sha256:e88a7d75ef10ca2e4be47561080ade3d690178631bbe7fb2cf6c8177f92c181b\n",
            "Info: downloading layer sha256:06e36ab5d39b3dbdfab1ac6be1b6aa8ed8593bc63edd9354afb93bb8bd77f228\n",
            "Info: downloading layer sha256:8d3317986bb712a59c83e66e1cbdeb3e1ddbfe0f5f97a15dcd65b9a9991fde94\n",
            "Info: downloading layer sha256:9e5d7366f43ce43b2fc8754efb6fac712231889930cf93d271ecde9078c12cbd\n",
            "Info: downloading layer sha256:b237fe92c4173e4dfb3ba82e76e5fed4b16186a6161e07af15814cb40eb9069d\n",
            "Error: invalid host volume path: /content/docker-app/colab-File-Browser\n",
            "Finish\n"
          ]
        }
      ],
      "source": [
        "# mountGDrive() # 開啟Google Drive掛載功能\n",
        "main()"
      ]
    }
  ],
  "metadata": {
    "colab": {
      "provenance": [],
      "toc_visible": true,
      "include_colab_link": true
    },
    "kernelspec": {
      "display_name": "Python 3",
      "name": "python3"
    },
    "language_info": {
      "name": "python"
    }
  },
  "nbformat": 4,
  "nbformat_minor": 0
}